{
 "cells": [
  {
   "cell_type": "markdown",
   "metadata": {},
   "source": [
    "# Mô hình dự đoán tương tác dựa vào thời gian và nội dung "
   ]
  },
  {
   "cell_type": "markdown",
   "metadata": {},
   "source": [
    "## Chuẩn bị dữ liệu "
   ]
  },
  {
   "cell_type": "code",
   "execution_count": 24,
   "metadata": {},
   "outputs": [],
   "source": [
    "import pandas as pd \n",
    "import numpy as np \n",
    "import sklearn\n",
    "import datetime, re\n",
    "import underthesea"
   ]
  },
  {
   "cell_type": "code",
   "execution_count": 25,
   "metadata": {},
   "outputs": [
    {
     "name": "stdout",
     "output_type": "stream",
     "text": [
      "<class 'pandas.core.frame.DataFrame'>\n",
      "Index: 1205 entries, 0 to 989\n",
      "Data columns (total 51 columns):\n",
      " #   Column                         Non-Null Count  Dtype  \n",
      "---  ------                         --------------  -----  \n",
      " 0   post_id                        1205 non-null   int64  \n",
      " 1   text                           1205 non-null   object \n",
      " 2   post_text                      1204 non-null   object \n",
      " 3   shared_text                    70 non-null     object \n",
      " 4   original_text                  25 non-null     object \n",
      " 5   time                           1205 non-null   object \n",
      " 6   timestamp                      1195 non-null   float64\n",
      " 7   image                          844 non-null    object \n",
      " 8   image_lowquality               1203 non-null   object \n",
      " 9   images                         1200 non-null   object \n",
      " 10  images_description             1200 non-null   object \n",
      " 11  images_lowquality              1205 non-null   object \n",
      " 12  images_lowquality_description  1205 non-null   object \n",
      " 13  video                          292 non-null    object \n",
      " 14  video_duration_seconds         0 non-null      float64\n",
      " 15  video_height                   0 non-null      float64\n",
      " 16  video_id                       292 non-null    float64\n",
      " 17  video_quality                  0 non-null      float64\n",
      " 18  video_size_MB                  0 non-null      float64\n",
      " 19  video_thumbnail                291 non-null    object \n",
      " 20  video_watches                  0 non-null      float64\n",
      " 21  video_width                    0 non-null      float64\n",
      " 22  likes                          856 non-null    float64\n",
      " 23  comments                       1205 non-null   int64  \n",
      " 24  shares                         1205 non-null   int64  \n",
      " 25  post_url                       1205 non-null   object \n",
      " 26  link                           81 non-null     object \n",
      " 27  links                          1204 non-null   object \n",
      " 28  user_id                        1205 non-null   int64  \n",
      " 29  username                       1205 non-null   object \n",
      " 30  user_url                       1205 non-null   object \n",
      " 31  is_live                        1205 non-null   bool   \n",
      " 32  factcheck                      0 non-null      float64\n",
      " 33  shared_post_id                 39 non-null     float64\n",
      " 34  shared_time                    39 non-null     object \n",
      " 35  shared_user_id                 39 non-null     float64\n",
      " 36  shared_username                39 non-null     object \n",
      " 37  shared_post_url                39 non-null     object \n",
      " 38  available                      1205 non-null   bool   \n",
      " 39  comments_full                  1205 non-null   object \n",
      " 40  reactors                       349 non-null    object \n",
      " 41  w3_fb_url                      349 non-null    object \n",
      " 42  reactions                      349 non-null    object \n",
      " 43  reaction_count                 1205 non-null   int64  \n",
      " 44  with                           94 non-null     object \n",
      " 45  page_id                        1205 non-null   int64  \n",
      " 46  sharers                        0 non-null      float64\n",
      " 47  image_id                       730 non-null    float64\n",
      " 48  image_ids                      1205 non-null   object \n",
      " 49  was_live                       1205 non-null   bool   \n",
      " 50  fetched_time                   349 non-null    object \n",
      "dtypes: bool(3), float64(14), int64(6), object(28)\n",
      "memory usage: 464.8+ KB\n"
     ]
    }
   ],
   "source": [
    "gam_1_df = pd.read_csv('Data\\GAM_data_sub.csv')\n",
    "gam_2_df = pd.read_csv('Data\\GAMeSportsVN.csv')\n",
    "\n",
    "main_df = pd.concat([gam_2_df, gam_1_df])\n",
    "\n",
    "main_df = main_df.dropna(subset= [ \"text\", \"time\"])\n",
    "main_df.info()"
   ]
  },
  {
   "cell_type": "markdown",
   "metadata": {},
   "source": [
    "### Làm sạch và xử lý missing"
   ]
  },
  {
   "cell_type": "code",
   "execution_count": 26,
   "metadata": {},
   "outputs": [],
   "source": [
    "main_df = main_df.loc[:, [ 'text','time', 'image', 'video','reaction_count']]\n",
    "main_df.loc[main_df['reaction_count'] == 0, 'reaction_count'] = None\n",
    "main_df = main_df.dropna(subset=['reaction_count'])"
   ]
  },
  {
   "cell_type": "code",
   "execution_count": 27,
   "metadata": {},
   "outputs": [
    {
     "name": "stdout",
     "output_type": "stream",
     "text": [
      "<class 'pandas.core.frame.DataFrame'>\n",
      "Index: 349 entries, 0 to 987\n",
      "Data columns (total 5 columns):\n",
      " #   Column          Non-Null Count  Dtype  \n",
      "---  ------          --------------  -----  \n",
      " 0   text            349 non-null    object \n",
      " 1   time            349 non-null    object \n",
      " 2   image           248 non-null    object \n",
      " 3   video           80 non-null     object \n",
      " 4   reaction_count  349 non-null    float64\n",
      "dtypes: float64(1), object(4)\n",
      "memory usage: 16.4+ KB\n"
     ]
    }
   ],
   "source": [
    "main_df.info()"
   ]
  },
  {
   "cell_type": "markdown",
   "metadata": {},
   "source": [
    "### Phân tách dữ liệu"
   ]
  },
  {
   "cell_type": "code",
   "execution_count": 28,
   "metadata": {},
   "outputs": [],
   "source": [
    "main_df['time'] = pd.to_datetime(main_df['time'])\n",
    "main_df['weekday'] = main_df['time'].dt.day_of_week\n",
    "main_df['hour'] = main_df['time'].dt.hour\n",
    "main_df.drop(['time'], inplace = True, axis = 1)"
   ]
  },
  {
   "cell_type": "code",
   "execution_count": 29,
   "metadata": {},
   "outputs": [],
   "source": [
    "main_df['image'] = ~ main_df['image'].isna()\n",
    "main_df['video'] = ~main_df['video'].isna()"
   ]
  },
  {
   "cell_type": "code",
   "execution_count": 30,
   "metadata": {},
   "outputs": [
    {
     "data": {
      "text/html": [
       "<div>\n",
       "<style scoped>\n",
       "    .dataframe tbody tr th:only-of-type {\n",
       "        vertical-align: middle;\n",
       "    }\n",
       "\n",
       "    .dataframe tbody tr th {\n",
       "        vertical-align: top;\n",
       "    }\n",
       "\n",
       "    .dataframe thead th {\n",
       "        text-align: right;\n",
       "    }\n",
       "</style>\n",
       "<table border=\"1\" class=\"dataframe\">\n",
       "  <thead>\n",
       "    <tr style=\"text-align: right;\">\n",
       "      <th></th>\n",
       "      <th>text</th>\n",
       "      <th>image</th>\n",
       "      <th>video</th>\n",
       "      <th>reaction_count</th>\n",
       "      <th>weekday</th>\n",
       "      <th>hour</th>\n",
       "    </tr>\n",
       "  </thead>\n",
       "  <tbody>\n",
       "    <tr>\n",
       "      <th>0</th>\n",
       "      <td>Palette: Góc đẹp, nhìn em mở nè anh em! 😎 #GAM...</td>\n",
       "      <td>False</td>\n",
       "      <td>True</td>\n",
       "      <td>226.0</td>\n",
       "      <td>1</td>\n",
       "      <td>19</td>\n",
       "    </tr>\n",
       "    <tr>\n",
       "      <th>1</th>\n",
       "      <td>Cái gì quan trọng thì mình nhắc lại 42 lần! 🙄 ...</td>\n",
       "      <td>False</td>\n",
       "      <td>True</td>\n",
       "      <td>321.0</td>\n",
       "      <td>1</td>\n",
       "      <td>17</td>\n",
       "    </tr>\n",
       "    <tr>\n",
       "      <th>2</th>\n",
       "      <td>Tâm linh không đùa được đâu! 🫣\\n\\nXem thêm ở M...</td>\n",
       "      <td>False</td>\n",
       "      <td>True</td>\n",
       "      <td>1079.0</td>\n",
       "      <td>1</td>\n",
       "      <td>15</td>\n",
       "    </tr>\n",
       "    <tr>\n",
       "      <th>3</th>\n",
       "      <td>Palette tung là anh em vào hứng ngay! 🥳 #GAMTI...</td>\n",
       "      <td>False</td>\n",
       "      <td>True</td>\n",
       "      <td>970.0</td>\n",
       "      <td>0</td>\n",
       "      <td>20</td>\n",
       "    </tr>\n",
       "    <tr>\n",
       "      <th>4</th>\n",
       "      <td>Khởi đầu cho các cuộc nội chiến tại CKTG, GAM ...</td>\n",
       "      <td>False</td>\n",
       "      <td>True</td>\n",
       "      <td>987.0</td>\n",
       "      <td>0</td>\n",
       "      <td>17</td>\n",
       "    </tr>\n",
       "  </tbody>\n",
       "</table>\n",
       "</div>"
      ],
      "text/plain": [
       "                                                text  image  video  \\\n",
       "0  Palette: Góc đẹp, nhìn em mở nè anh em! 😎 #GAM...  False   True   \n",
       "1  Cái gì quan trọng thì mình nhắc lại 42 lần! 🙄 ...  False   True   \n",
       "2  Tâm linh không đùa được đâu! 🫣\\n\\nXem thêm ở M...  False   True   \n",
       "3  Palette tung là anh em vào hứng ngay! 🥳 #GAMTI...  False   True   \n",
       "4  Khởi đầu cho các cuộc nội chiến tại CKTG, GAM ...  False   True   \n",
       "\n",
       "   reaction_count  weekday  hour  \n",
       "0           226.0        1    19  \n",
       "1           321.0        1    17  \n",
       "2          1079.0        1    15  \n",
       "3           970.0        0    20  \n",
       "4           987.0        0    17  "
      ]
     },
     "execution_count": 30,
     "metadata": {},
     "output_type": "execute_result"
    }
   ],
   "source": [
    "main_df.head()"
   ]
  },
  {
   "cell_type": "code",
   "execution_count": 31,
   "metadata": {},
   "outputs": [
    {
     "data": {
      "text/html": [
       "<div>\n",
       "<style scoped>\n",
       "    .dataframe tbody tr th:only-of-type {\n",
       "        vertical-align: middle;\n",
       "    }\n",
       "\n",
       "    .dataframe tbody tr th {\n",
       "        vertical-align: top;\n",
       "    }\n",
       "\n",
       "    .dataframe thead th {\n",
       "        text-align: right;\n",
       "    }\n",
       "</style>\n",
       "<table border=\"1\" class=\"dataframe\">\n",
       "  <thead>\n",
       "    <tr style=\"text-align: right;\">\n",
       "      <th></th>\n",
       "      <th>text</th>\n",
       "      <th>image</th>\n",
       "      <th>video</th>\n",
       "      <th>reaction_count</th>\n",
       "      <th>weekday</th>\n",
       "      <th>hour</th>\n",
       "      <th>Tag</th>\n",
       "    </tr>\n",
       "  </thead>\n",
       "  <tbody>\n",
       "    <tr>\n",
       "      <th>0</th>\n",
       "      <td>Palette: Góc đẹp, nhìn em mở nè anh em! 😎 #GAM...</td>\n",
       "      <td>False</td>\n",
       "      <td>True</td>\n",
       "      <td>226.0</td>\n",
       "      <td>1</td>\n",
       "      <td>19</td>\n",
       "      <td>doi_song</td>\n",
       "    </tr>\n",
       "    <tr>\n",
       "      <th>1</th>\n",
       "      <td>Cái gì quan trọng thì mình nhắc lại 42 lần! 🙄 ...</td>\n",
       "      <td>False</td>\n",
       "      <td>True</td>\n",
       "      <td>321.0</td>\n",
       "      <td>1</td>\n",
       "      <td>17</td>\n",
       "      <td>chinh_tri_xa_hoi</td>\n",
       "    </tr>\n",
       "    <tr>\n",
       "      <th>2</th>\n",
       "      <td>Tâm linh không đùa được đâu! 🫣\\n\\nXem thêm ở M...</td>\n",
       "      <td>False</td>\n",
       "      <td>True</td>\n",
       "      <td>1079.0</td>\n",
       "      <td>1</td>\n",
       "      <td>15</td>\n",
       "      <td>chinh_tri_xa_hoi</td>\n",
       "    </tr>\n",
       "    <tr>\n",
       "      <th>3</th>\n",
       "      <td>Palette tung là anh em vào hứng ngay! 🥳 #GAMTI...</td>\n",
       "      <td>False</td>\n",
       "      <td>True</td>\n",
       "      <td>970.0</td>\n",
       "      <td>0</td>\n",
       "      <td>20</td>\n",
       "      <td>doi_song</td>\n",
       "    </tr>\n",
       "    <tr>\n",
       "      <th>4</th>\n",
       "      <td>Khởi đầu cho các cuộc nội chiến tại CKTG, GAM ...</td>\n",
       "      <td>False</td>\n",
       "      <td>True</td>\n",
       "      <td>987.0</td>\n",
       "      <td>0</td>\n",
       "      <td>17</td>\n",
       "      <td>the_thao</td>\n",
       "    </tr>\n",
       "  </tbody>\n",
       "</table>\n",
       "</div>"
      ],
      "text/plain": [
       "                                                text  image  video  \\\n",
       "0  Palette: Góc đẹp, nhìn em mở nè anh em! 😎 #GAM...  False   True   \n",
       "1  Cái gì quan trọng thì mình nhắc lại 42 lần! 🙄 ...  False   True   \n",
       "2  Tâm linh không đùa được đâu! 🫣\\n\\nXem thêm ở M...  False   True   \n",
       "3  Palette tung là anh em vào hứng ngay! 🥳 #GAMTI...  False   True   \n",
       "4  Khởi đầu cho các cuộc nội chiến tại CKTG, GAM ...  False   True   \n",
       "\n",
       "   reaction_count  weekday  hour               Tag  \n",
       "0           226.0        1    19          doi_song  \n",
       "1           321.0        1    17  chinh_tri_xa_hoi  \n",
       "2          1079.0        1    15  chinh_tri_xa_hoi  \n",
       "3           970.0        0    20          doi_song  \n",
       "4           987.0        0    17          the_thao  "
      ]
     },
     "execution_count": 31,
     "metadata": {},
     "output_type": "execute_result"
    }
   ],
   "source": [
    "from underthesea import text_normalize\n",
    "from underthesea import classify \n",
    "\n",
    "main_df['Tag'] = main_df['text'].apply(lambda x : classify(x)[0])\n",
    "\n",
    "main_df.head()"
   ]
  },
  {
   "cell_type": "code",
   "execution_count": 32,
   "metadata": {},
   "outputs": [],
   "source": [
    "main_df.drop(\"text\", axis= 1, inplace= True)"
   ]
  },
  {
   "cell_type": "markdown",
   "metadata": {},
   "source": [
    "### Phân chia dữ liệu"
   ]
  },
  {
   "cell_type": "code",
   "execution_count": 33,
   "metadata": {},
   "outputs": [],
   "source": [
    "from sklearn.model_selection import train_test_split\n",
    "\n",
    "train_df, test_df = train_test_split(main_df, test_size= 0.1, random_state=42)"
   ]
  },
  {
   "cell_type": "code",
   "execution_count": 34,
   "metadata": {},
   "outputs": [
    {
     "data": {
      "text/plain": [
       "314"
      ]
     },
     "execution_count": 34,
     "metadata": {},
     "output_type": "execute_result"
    }
   ],
   "source": [
    "len(train_df)"
   ]
  },
  {
   "cell_type": "code",
   "execution_count": 35,
   "metadata": {},
   "outputs": [
    {
     "data": {
      "text/plain": [
       "35"
      ]
     },
     "execution_count": 35,
     "metadata": {},
     "output_type": "execute_result"
    }
   ],
   "source": [
    "len(test_df)"
   ]
  },
  {
   "cell_type": "markdown",
   "metadata": {},
   "source": [
    "## Mã hóa dữ liệu text"
   ]
  },
  {
   "cell_type": "code",
   "execution_count": 36,
   "metadata": {},
   "outputs": [
    {
     "data": {
      "text/plain": [
       "array([[0., 0., 0., ..., 1., 0., 0.],\n",
       "       [1., 0., 0., ..., 0., 0., 0.],\n",
       "       [0., 0., 0., ..., 0., 1., 0.],\n",
       "       ...,\n",
       "       [0., 0., 0., ..., 1., 0., 0.],\n",
       "       [0., 1., 0., ..., 0., 0., 0.],\n",
       "       [0., 0., 0., ..., 0., 0., 1.]])"
      ]
     },
     "execution_count": 36,
     "metadata": {},
     "output_type": "execute_result"
    }
   ],
   "source": [
    "from sklearn.preprocessing import OneHotEncoder \n",
    "\n",
    "tag_encoder = OneHotEncoder()\n",
    "tag_df = train_df[['Tag']]\n",
    "tag_encoder_1hot = tag_encoder.fit_transform(tag_df)\n",
    "tag_encoder_1hot.toarray()"
   ]
  },
  {
   "cell_type": "code",
   "execution_count": 37,
   "metadata": {},
   "outputs": [
    {
     "data": {
      "text/html": [
       "<div>\n",
       "<style scoped>\n",
       "    .dataframe tbody tr th:only-of-type {\n",
       "        vertical-align: middle;\n",
       "    }\n",
       "\n",
       "    .dataframe tbody tr th {\n",
       "        vertical-align: top;\n",
       "    }\n",
       "\n",
       "    .dataframe thead th {\n",
       "        text-align: right;\n",
       "    }\n",
       "</style>\n",
       "<table border=\"1\" class=\"dataframe\">\n",
       "  <thead>\n",
       "    <tr style=\"text-align: right;\">\n",
       "      <th></th>\n",
       "      <th>image</th>\n",
       "      <th>video</th>\n",
       "      <th>reaction_count</th>\n",
       "      <th>weekday</th>\n",
       "      <th>hour</th>\n",
       "    </tr>\n",
       "  </thead>\n",
       "  <tbody>\n",
       "    <tr>\n",
       "      <th>55</th>\n",
       "      <td>True</td>\n",
       "      <td>False</td>\n",
       "      <td>1683.0</td>\n",
       "      <td>4</td>\n",
       "      <td>9</td>\n",
       "    </tr>\n",
       "    <tr>\n",
       "      <th>42</th>\n",
       "      <td>True</td>\n",
       "      <td>False</td>\n",
       "      <td>2697.0</td>\n",
       "      <td>6</td>\n",
       "      <td>18</td>\n",
       "    </tr>\n",
       "    <tr>\n",
       "      <th>30</th>\n",
       "      <td>True</td>\n",
       "      <td>False</td>\n",
       "      <td>1734.0</td>\n",
       "      <td>2</td>\n",
       "      <td>19</td>\n",
       "    </tr>\n",
       "    <tr>\n",
       "      <th>9</th>\n",
       "      <td>True</td>\n",
       "      <td>False</td>\n",
       "      <td>446.0</td>\n",
       "      <td>5</td>\n",
       "      <td>18</td>\n",
       "    </tr>\n",
       "    <tr>\n",
       "      <th>110</th>\n",
       "      <td>True</td>\n",
       "      <td>False</td>\n",
       "      <td>2697.0</td>\n",
       "      <td>6</td>\n",
       "      <td>18</td>\n",
       "    </tr>\n",
       "    <tr>\n",
       "      <th>...</th>\n",
       "      <td>...</td>\n",
       "      <td>...</td>\n",
       "      <td>...</td>\n",
       "      <td>...</td>\n",
       "      <td>...</td>\n",
       "    </tr>\n",
       "    <tr>\n",
       "      <th>188</th>\n",
       "      <td>False</td>\n",
       "      <td>True</td>\n",
       "      <td>1333.0</td>\n",
       "      <td>1</td>\n",
       "      <td>10</td>\n",
       "    </tr>\n",
       "    <tr>\n",
       "      <th>71</th>\n",
       "      <td>True</td>\n",
       "      <td>False</td>\n",
       "      <td>2106.0</td>\n",
       "      <td>0</td>\n",
       "      <td>20</td>\n",
       "    </tr>\n",
       "    <tr>\n",
       "      <th>106</th>\n",
       "      <td>False</td>\n",
       "      <td>True</td>\n",
       "      <td>8219.0</td>\n",
       "      <td>2</td>\n",
       "      <td>13</td>\n",
       "    </tr>\n",
       "    <tr>\n",
       "      <th>71</th>\n",
       "      <td>False</td>\n",
       "      <td>True</td>\n",
       "      <td>3513.0</td>\n",
       "      <td>0</td>\n",
       "      <td>20</td>\n",
       "    </tr>\n",
       "    <tr>\n",
       "      <th>102</th>\n",
       "      <td>True</td>\n",
       "      <td>False</td>\n",
       "      <td>4106.0</td>\n",
       "      <td>2</td>\n",
       "      <td>20</td>\n",
       "    </tr>\n",
       "  </tbody>\n",
       "</table>\n",
       "<p>314 rows × 5 columns</p>\n",
       "</div>"
      ],
      "text/plain": [
       "     image  video  reaction_count  weekday  hour\n",
       "55    True  False          1683.0        4     9\n",
       "42    True  False          2697.0        6    18\n",
       "30    True  False          1734.0        2    19\n",
       "9     True  False           446.0        5    18\n",
       "110   True  False          2697.0        6    18\n",
       "..     ...    ...             ...      ...   ...\n",
       "188  False   True          1333.0        1    10\n",
       "71    True  False          2106.0        0    20\n",
       "106  False   True          8219.0        2    13\n",
       "71   False   True          3513.0        0    20\n",
       "102   True  False          4106.0        2    20\n",
       "\n",
       "[314 rows x 5 columns]"
      ]
     },
     "execution_count": 37,
     "metadata": {},
     "output_type": "execute_result"
    }
   ],
   "source": [
    "train_df[['image', 'video', 'reaction_count', 'weekday', 'hour']]"
   ]
  },
  {
   "cell_type": "code",
   "execution_count": 38,
   "metadata": {},
   "outputs": [],
   "source": [
    "train_df['reaction_count'] = train_df['reaction_count'].astype('int32')"
   ]
  },
  {
   "cell_type": "code",
   "execution_count": 39,
   "metadata": {},
   "outputs": [],
   "source": [
    "train_df_label = train_df['reaction_count'].copy()\n",
    "train_df = train_df.drop(\"reaction_count\", axis = 1)"
   ]
  },
  {
   "cell_type": "markdown",
   "metadata": {},
   "source": [
    "### Transfrom pipeline"
   ]
  },
  {
   "cell_type": "code",
   "execution_count": 40,
   "metadata": {},
   "outputs": [],
   "source": [
    "from sklearn.compose import ColumnTransformer\n",
    "from sklearn.pipeline import Pipeline\n",
    "from sklearn.preprocessing import StandardScaler, OneHotEncoder\n",
    "\n",
    "\n",
    "main_att = ['image', 'video', 'weekday', 'hour']\n",
    "tag_att = ['Tag']\n",
    "\n",
    "\n",
    "pipe_line = Pipeline([\n",
    "    ('preprocessor', ColumnTransformer(transformers=[\n",
    "        ('num', StandardScaler(), main_att),\n",
    "        ('encode', OneHotEncoder(), tag_att)\n",
    "    ]))\n",
    "])\n",
    "\n",
    "\n",
    "train_df_prepare = pipe_line.fit_transform(train_df)\n"
   ]
  },
  {
   "cell_type": "code",
   "execution_count": 41,
   "metadata": {},
   "outputs": [
    {
     "data": {
      "text/plain": [
       "array([[ 0.64375027, -0.55036766,  0.36401379, ...,  1.        ,\n",
       "         0.        ,  0.        ],\n",
       "       [ 0.64375027, -0.55036766,  1.33266067, ...,  0.        ,\n",
       "         0.        ,  0.        ],\n",
       "       [ 0.64375027, -0.55036766, -0.60463308, ...,  0.        ,\n",
       "         1.        ,  0.        ],\n",
       "       ...,\n",
       "       [-1.5533974 ,  1.81696722, -0.60463308, ...,  1.        ,\n",
       "         0.        ,  0.        ],\n",
       "       [-1.5533974 ,  1.81696722, -1.57327996, ...,  0.        ,\n",
       "         0.        ,  0.        ],\n",
       "       [ 0.64375027, -0.55036766, -0.60463308, ...,  0.        ,\n",
       "         0.        ,  1.        ]])"
      ]
     },
     "execution_count": 41,
     "metadata": {},
     "output_type": "execute_result"
    }
   ],
   "source": [
    "train_df_prepare"
   ]
  },
  {
   "cell_type": "markdown",
   "metadata": {},
   "source": [
    "## Training Model"
   ]
  },
  {
   "cell_type": "markdown",
   "metadata": {},
   "source": [
    "### LinearRegression"
   ]
  },
  {
   "cell_type": "code",
   "execution_count": 42,
   "metadata": {},
   "outputs": [
    {
     "data": {
      "text/html": [
       "<style>#sk-container-id-1 {color: black;}#sk-container-id-1 pre{padding: 0;}#sk-container-id-1 div.sk-toggleable {background-color: white;}#sk-container-id-1 label.sk-toggleable__label {cursor: pointer;display: block;width: 100%;margin-bottom: 0;padding: 0.3em;box-sizing: border-box;text-align: center;}#sk-container-id-1 label.sk-toggleable__label-arrow:before {content: \"▸\";float: left;margin-right: 0.25em;color: #696969;}#sk-container-id-1 label.sk-toggleable__label-arrow:hover:before {color: black;}#sk-container-id-1 div.sk-estimator:hover label.sk-toggleable__label-arrow:before {color: black;}#sk-container-id-1 div.sk-toggleable__content {max-height: 0;max-width: 0;overflow: hidden;text-align: left;background-color: #f0f8ff;}#sk-container-id-1 div.sk-toggleable__content pre {margin: 0.2em;color: black;border-radius: 0.25em;background-color: #f0f8ff;}#sk-container-id-1 input.sk-toggleable__control:checked~div.sk-toggleable__content {max-height: 200px;max-width: 100%;overflow: auto;}#sk-container-id-1 input.sk-toggleable__control:checked~label.sk-toggleable__label-arrow:before {content: \"▾\";}#sk-container-id-1 div.sk-estimator input.sk-toggleable__control:checked~label.sk-toggleable__label {background-color: #d4ebff;}#sk-container-id-1 div.sk-label input.sk-toggleable__control:checked~label.sk-toggleable__label {background-color: #d4ebff;}#sk-container-id-1 input.sk-hidden--visually {border: 0;clip: rect(1px 1px 1px 1px);clip: rect(1px, 1px, 1px, 1px);height: 1px;margin: -1px;overflow: hidden;padding: 0;position: absolute;width: 1px;}#sk-container-id-1 div.sk-estimator {font-family: monospace;background-color: #f0f8ff;border: 1px dotted black;border-radius: 0.25em;box-sizing: border-box;margin-bottom: 0.5em;}#sk-container-id-1 div.sk-estimator:hover {background-color: #d4ebff;}#sk-container-id-1 div.sk-parallel-item::after {content: \"\";width: 100%;border-bottom: 1px solid gray;flex-grow: 1;}#sk-container-id-1 div.sk-label:hover label.sk-toggleable__label {background-color: #d4ebff;}#sk-container-id-1 div.sk-serial::before {content: \"\";position: absolute;border-left: 1px solid gray;box-sizing: border-box;top: 0;bottom: 0;left: 50%;z-index: 0;}#sk-container-id-1 div.sk-serial {display: flex;flex-direction: column;align-items: center;background-color: white;padding-right: 0.2em;padding-left: 0.2em;position: relative;}#sk-container-id-1 div.sk-item {position: relative;z-index: 1;}#sk-container-id-1 div.sk-parallel {display: flex;align-items: stretch;justify-content: center;background-color: white;position: relative;}#sk-container-id-1 div.sk-item::before, #sk-container-id-1 div.sk-parallel-item::before {content: \"\";position: absolute;border-left: 1px solid gray;box-sizing: border-box;top: 0;bottom: 0;left: 50%;z-index: -1;}#sk-container-id-1 div.sk-parallel-item {display: flex;flex-direction: column;z-index: 1;position: relative;background-color: white;}#sk-container-id-1 div.sk-parallel-item:first-child::after {align-self: flex-end;width: 50%;}#sk-container-id-1 div.sk-parallel-item:last-child::after {align-self: flex-start;width: 50%;}#sk-container-id-1 div.sk-parallel-item:only-child::after {width: 0;}#sk-container-id-1 div.sk-dashed-wrapped {border: 1px dashed gray;margin: 0 0.4em 0.5em 0.4em;box-sizing: border-box;padding-bottom: 0.4em;background-color: white;}#sk-container-id-1 div.sk-label label {font-family: monospace;font-weight: bold;display: inline-block;line-height: 1.2em;}#sk-container-id-1 div.sk-label-container {text-align: center;}#sk-container-id-1 div.sk-container {/* jupyter's `normalize.less` sets `[hidden] { display: none; }` but bootstrap.min.css set `[hidden] { display: none !important; }` so we also need the `!important` here to be able to override the default hidden behavior on the sphinx rendered scikit-learn.org. See: https://github.com/scikit-learn/scikit-learn/issues/21755 */display: inline-block !important;position: relative;}#sk-container-id-1 div.sk-text-repr-fallback {display: none;}</style><div id=\"sk-container-id-1\" class=\"sk-top-container\"><div class=\"sk-text-repr-fallback\"><pre>LinearRegression()</pre><b>In a Jupyter environment, please rerun this cell to show the HTML representation or trust the notebook. <br />On GitHub, the HTML representation is unable to render, please try loading this page with nbviewer.org.</b></div><div class=\"sk-container\" hidden><div class=\"sk-item\"><div class=\"sk-estimator sk-toggleable\"><input class=\"sk-toggleable__control sk-hidden--visually\" id=\"sk-estimator-id-1\" type=\"checkbox\" checked><label for=\"sk-estimator-id-1\" class=\"sk-toggleable__label sk-toggleable__label-arrow\">LinearRegression</label><div class=\"sk-toggleable__content\"><pre>LinearRegression()</pre></div></div></div></div></div>"
      ],
      "text/plain": [
       "LinearRegression()"
      ]
     },
     "execution_count": 42,
     "metadata": {},
     "output_type": "execute_result"
    }
   ],
   "source": [
    "from sklearn.linear_model import LinearRegression \n",
    "\n",
    "li_re = LinearRegression()\n",
    "li_re.fit(train_df_prepare, train_df_label)"
   ]
  },
  {
   "cell_type": "code",
   "execution_count": 43,
   "metadata": {},
   "outputs": [
    {
     "data": {
      "text/plain": [
       "2926.6234123644886"
      ]
     },
     "execution_count": 43,
     "metadata": {},
     "output_type": "execute_result"
    }
   ],
   "source": [
    "from sklearn.metrics import mean_squared_error\n",
    "\n",
    "train_predict = li_re.predict(train_df_prepare)\n",
    "li_mse = mean_squared_error(train_predict, train_df_label)\n",
    "li_rmse = np.sqrt(li_mse)\n",
    "li_rmse"
   ]
  },
  {
   "cell_type": "markdown",
   "metadata": {},
   "source": [
    "###  Decision Tree"
   ]
  },
  {
   "cell_type": "code",
   "execution_count": 44,
   "metadata": {},
   "outputs": [
    {
     "data": {
      "text/plain": [
       "1066.9152347801323"
      ]
     },
     "execution_count": 44,
     "metadata": {},
     "output_type": "execute_result"
    }
   ],
   "source": [
    "from sklearn.tree import DecisionTreeRegressor\n",
    "\n",
    "de_re = DecisionTreeRegressor()\n",
    "de_re.fit(train_df_prepare, train_df_label)\n",
    "\n",
    "train_predict_de = de_re.predict(train_df_prepare)\n",
    "li_rmse_de = np.sqrt(mean_squared_error(train_predict_de, train_df_label))\n",
    "\n",
    "li_rmse_de"
   ]
  },
  {
   "cell_type": "code",
   "execution_count": 45,
   "metadata": {},
   "outputs": [
    {
     "name": "stdout",
     "output_type": "stream",
     "text": [
      "Mean : 3610.9724499442646\n",
      "STD: 1191.7300150040035\n",
      "Mean : 2982.639738197192\n",
      "STD: 703.8612312439301\n"
     ]
    }
   ],
   "source": [
    "from sklearn.model_selection import cross_val_score\n",
    "\n",
    "de_score = cross_val_score(de_re, train_df_prepare, train_df_label, scoring=\"neg_mean_squared_error\", cv=10)\n",
    "li_score = cross_val_score(li_re, train_df_prepare, train_df_label, scoring=\"neg_mean_squared_error\", cv=10)\n",
    "\n",
    "def print_score(score) : \n",
    "    print(\"Mean : \" + str(np.sqrt(-score).mean()) )\n",
    "    print(\"STD: \" + str(np.sqrt(-score).std()))\n",
    "\n",
    "print_score(de_score)\n",
    "\n",
    "print_score(li_score)"
   ]
  },
  {
   "cell_type": "markdown",
   "metadata": {},
   "source": [
    "## Predict"
   ]
  },
  {
   "cell_type": "code",
   "execution_count": 46,
   "metadata": {},
   "outputs": [
    {
     "data": {
      "text/plain": [
       "3335.865593297731"
      ]
     },
     "execution_count": 46,
     "metadata": {},
     "output_type": "execute_result"
    }
   ],
   "source": [
    "test_x_df = test_df.drop(\"reaction_count\", axis = 1)\n",
    "test_y_df = test_df['reaction_count'].copy()\n",
    "\n",
    "test_x_prepare = pipe_line.transform(test_x_df)\n",
    "\n",
    "test_predict = de_re.predict(test_x_prepare)\n",
    "\n",
    "test_rmse = np.sqrt(mean_squared_error(test_y_df, test_predict))\n",
    "\n",
    "test_rmse"
   ]
  }
 ],
 "metadata": {
  "kernelspec": {
   "display_name": "Python 3",
   "language": "python",
   "name": "python3"
  },
  "language_info": {
   "codemirror_mode": {
    "name": "ipython",
    "version": 3
   },
   "file_extension": ".py",
   "mimetype": "text/x-python",
   "name": "python",
   "nbconvert_exporter": "python",
   "pygments_lexer": "ipython3",
   "version": "3.11.4"
  }
 },
 "nbformat": 4,
 "nbformat_minor": 2
}
