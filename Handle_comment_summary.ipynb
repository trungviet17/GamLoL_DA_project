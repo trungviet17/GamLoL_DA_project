{
 "cells": [
  {
   "cell_type": "markdown",
   "metadata": {},
   "source": [
    "# Xử lý dữ liệu comment"
   ]
  },
  {
   "cell_type": "code",
   "execution_count": 1,
   "metadata": {},
   "outputs": [],
   "source": [
    "import requests\n",
    "import pandas as pd\n",
    "import numpy as np"
   ]
  },
  {
   "cell_type": "code",
   "execution_count": null,
   "metadata": {},
   "outputs": [],
   "source": [
    "API = \"\"\n",
    "with open(\"API.txt\", 'r') as file : \n",
    "    API = file.read()"
   ]
  },
  {
   "cell_type": "markdown",
   "metadata": {},
   "source": [
    "## Mô hình summary \n",
    "- Dùng để tóm tắt bình luận có dài vượt quá đầu vào của mô hình sentiment"
   ]
  },
  {
   "cell_type": "code",
   "execution_count": 44,
   "metadata": {},
   "outputs": [],
   "source": [
    "API_URL = \"https://api-inference.huggingface.co/models/pengold/t5-vietnamese-summarization\"\n",
    "headers = {\"Authorization\": API}\n",
    "\n",
    "def query(payload):\n",
    "\tresponse = requests.post(API_URL, headers=headers, json=payload)\n",
    "\treturn response.json()\n",
    "\n",
    "def summary(sentence) :\n",
    "\tif (len(sentence) <= 256) : return sentence \t\n",
    "\toutput = query({\n",
    "\t\t\"inputs\": sentence,\n",
    "\t})\n",
    "\t\n",
    "\treturn output[0]['summary_text']"
   ]
  },
  {
   "cell_type": "markdown",
   "metadata": {},
   "source": [
    "## Mô hình đánh gía cảm xúc bình luận người dùng"
   ]
  },
  {
   "cell_type": "code",
   "execution_count": 45,
   "metadata": {},
   "outputs": [],
   "source": [
    "# Model dự đoán sentiment bình luận người dùng\n",
    "import torch\n",
    "from transformers import RobertaForSequenceClassification, AutoTokenizer\n",
    "\n",
    "model = RobertaForSequenceClassification.from_pretrained(\"wonrax/phobert-base-vietnamese-sentiment\")\n",
    "\n",
    "tokenizer = AutoTokenizer.from_pretrained(\"wonrax/phobert-base-vietnamese-sentiment\", use_fast=False)\n",
    "\n",
    "\n",
    "def sentiment_analyst(sentence) : \n",
    "\t\n",
    "\tinput_ids = torch.tensor([tokenizer.encode(sentence)])\n",
    "\n",
    "\twith torch.no_grad():\n",
    "\t\tout = model(input_ids)\n",
    "\t\tres_lst = out.logits.softmax(dim=-1).tolist()\n",
    "\tres = \"Negative\"\n",
    "\tm = res_lst[0][0]\n",
    "\tif m < res_lst[0][1] : \n",
    "\t\tres = 'Positive'\n",
    "\t\tm = res_lst[0][1]\n",
    "\t\n",
    "\tif m < res_lst[0][2] : \n",
    "\t\tres = 'Neutral'\n",
    "\t\tm = res_lst[0][2]\n",
    "\treturn res\n"
   ]
  },
  {
   "cell_type": "code",
   "execution_count": 46,
   "metadata": {},
   "outputs": [
    {
     "name": "stdout",
     "output_type": "stream",
     "text": [
      "<class 'pandas.core.frame.DataFrame'>\n",
      "RangeIndex: 6885 entries, 0 to 6884\n",
      "Data columns (total 16 columns):\n",
      " #   Column                  Non-Null Count  Dtype \n",
      "---  ------                  --------------  ----- \n",
      " 0   post_id                 6885 non-null   int64 \n",
      " 1   comment_id              6885 non-null   int64 \n",
      " 2   comment_url             6885 non-null   object\n",
      " 3   commenter_id            6885 non-null   int64 \n",
      " 4   commenter_url           6885 non-null   object\n",
      " 5   comment_text            6885 non-null   object\n",
      " 6   comment_time            6527 non-null   object\n",
      " 7   like                    6885 non-null   int64 \n",
      " 8   haha                    6885 non-null   int64 \n",
      " 9   sad                     6885 non-null   int64 \n",
      " 10  love                    6885 non-null   int64 \n",
      " 11  care                    6885 non-null   int64 \n",
      " 12  wow                     6885 non-null   int64 \n",
      " 13  angry                   6885 non-null   int64 \n",
      " 14  comment_reaction_count  6885 non-null   int64 \n",
      " 15  is_reply                6885 non-null   bool  \n",
      "dtypes: bool(1), int64(11), object(4)\n",
      "memory usage: 813.7+ KB\n"
     ]
    }
   ],
   "source": [
    "comment_df = pd.read_csv('Data\\comment_summary.csv')\n",
    "comment_df.info()"
   ]
  },
  {
   "cell_type": "code",
   "execution_count": 47,
   "metadata": {},
   "outputs": [
    {
     "data": {
      "text/plain": [
       "post_id                                                     737500015083384\n",
       "comment_id                                                 1021589905751270\n",
       "comment_url                           https://facebook.com/1021589905751270\n",
       "commenter_id                                                100064108125602\n",
       "commenter_url             https://facebook.com/profile.php?id=1000641081...\n",
       "comment_text              Hiếu Dương nói như ông, ông hỏi thử xem tại sa...\n",
       "comment_time                                            2023-11-09 00:00:00\n",
       "like                                                                      0\n",
       "haha                                                                      0\n",
       "sad                                                                       0\n",
       "love                                                                      0\n",
       "care                                                                      0\n",
       "wow                                                                       0\n",
       "angry                                                                     0\n",
       "comment_reaction_count                                                    0\n",
       "is_reply                                                               True\n",
       "Name: 65, dtype: object"
      ]
     },
     "execution_count": 47,
     "metadata": {},
     "output_type": "execute_result"
    }
   ],
   "source": [
    "comment_df.iloc[65]"
   ]
  },
  {
   "cell_type": "code",
   "execution_count": null,
   "metadata": {},
   "outputs": [],
   "source": [
    "tmp_1 = comment_df.loc[:3000, \"comment_text\"].apply(lambda x : summary(x))\n"
   ]
  },
  {
   "cell_type": "code",
   "execution_count": null,
   "metadata": {},
   "outputs": [
    {
     "data": {
      "text/plain": [
       "0       Đăng mic check vs TL đi chứ đánh với anh em mộ...\n",
       "1                            Nghe nói fiddlesticks cút hả\n",
       "2       Hôm nghe bảo về fam lại mà mấy bố kêu về fam n...\n",
       "3               Anh Khánh đi bộ nai xừ chưa về live nữa 😂\n",
       "4                                             Dương Phong\n",
       "                              ...                        \n",
       "2996                           Thiệu Vĩ Khang thì sao ???\n",
       "2997                      Hoang Anh đúng chân đèn có khác\n",
       "2998       Minh Hoàng :)))) bảo đội hay hơn thắng đi :)))\n",
       "2999    Hoang Anh ủa t bảo t fan tw hả =))) m bảo vả n...\n",
       "3000        Minh Hoàng t nói mày fan TW lúc nào đấy, :)),\n",
       "Name: comment_text, Length: 3001, dtype: object"
      ]
     },
     "execution_count": 30,
     "metadata": {},
     "output_type": "execute_result"
    }
   ],
   "source": [
    "tmp_1"
   ]
  },
  {
   "cell_type": "code",
   "execution_count": null,
   "metadata": {},
   "outputs": [],
   "source": [
    "tmp_2 = comment_df.loc[3000:, \"comment_text\"].apply(lambda x : summary(x))"
   ]
  },
  {
   "cell_type": "code",
   "execution_count": null,
   "metadata": {},
   "outputs": [
    {
     "data": {
      "text/plain": [
       "3001    Hoang Anh đúng chân đèn sì, clb nào fan đấy =))))\n",
       "3002                           Hùng Thanh Nguyễn đúng thế\n",
       "3003    thể thao thắng thua bth,có đã từng thắng lpl c...\n",
       "3004    TriỀu Nguyễn nói thẳng luôn trình độ việt nam ...\n",
       "3005    TriỀu Nguyễn gì vậy cha nội, vậy sao không bảo...\n",
       "                              ...                        \n",
       "6880                                   Khi nào đámh ad oi\n",
       "6881    nghe hừng hực khí thế luôn. cố lên nào mn. VCS...\n",
       "6882                                 Mai mấyh đánh thế mn\n",
       "6883    Các thành viên đừng để bất kỳ vấn đề nào ảnh h...\n",
       "6884                     Điện Lạnh An Phát-tài mai ông oi\n",
       "Name: comment_text, Length: 3884, dtype: object"
      ]
     },
     "execution_count": 32,
     "metadata": {},
     "output_type": "execute_result"
    }
   ],
   "source": [
    "tmp_2[1:]"
   ]
  },
  {
   "cell_type": "code",
   "execution_count": null,
   "metadata": {},
   "outputs": [
    {
     "data": {
      "text/html": [
       "<div>\n",
       "<style scoped>\n",
       "    .dataframe tbody tr th:only-of-type {\n",
       "        vertical-align: middle;\n",
       "    }\n",
       "\n",
       "    .dataframe tbody tr th {\n",
       "        vertical-align: top;\n",
       "    }\n",
       "\n",
       "    .dataframe thead th {\n",
       "        text-align: right;\n",
       "    }\n",
       "</style>\n",
       "<table border=\"1\" class=\"dataframe\">\n",
       "  <thead>\n",
       "    <tr style=\"text-align: right;\">\n",
       "      <th></th>\n",
       "      <th>comment_id</th>\n",
       "      <th>comment_url</th>\n",
       "      <th>commenter_id</th>\n",
       "      <th>commenter_url</th>\n",
       "      <th>comment_text</th>\n",
       "      <th>comment_time</th>\n",
       "      <th>like</th>\n",
       "      <th>haha</th>\n",
       "      <th>sad</th>\n",
       "      <th>love</th>\n",
       "      <th>care</th>\n",
       "      <th>wow</th>\n",
       "      <th>angry</th>\n",
       "      <th>comment_reaction_count</th>\n",
       "      <th>is_reply</th>\n",
       "    </tr>\n",
       "  </thead>\n",
       "  <tbody>\n",
       "    <tr>\n",
       "      <th>0</th>\n",
       "      <td>687445613484826</td>\n",
       "      <td>https://facebook.com/687445613484826</td>\n",
       "      <td>100032860689002</td>\n",
       "      <td>https://facebook.com/profile.php?id=1000328606...</td>\n",
       "      <td>Đăng mic check vs TL đi chứ đánh với anh em mộ...</td>\n",
       "      <td>2023-11-14 00:00:00</td>\n",
       "      <td>6</td>\n",
       "      <td>0</td>\n",
       "      <td>0</td>\n",
       "      <td>0</td>\n",
       "      <td>0</td>\n",
       "      <td>0</td>\n",
       "      <td>0</td>\n",
       "      <td>6</td>\n",
       "      <td>False</td>\n",
       "    </tr>\n",
       "    <tr>\n",
       "      <th>1</th>\n",
       "      <td>6766375476749289</td>\n",
       "      <td>https://facebook.com/6766375476749289</td>\n",
       "      <td>100043315503165</td>\n",
       "      <td>https://facebook.com/profile.php?id=1000433155...</td>\n",
       "      <td>Nghe nói fiddlesticks cút hả</td>\n",
       "      <td>2023-11-09 00:00:00</td>\n",
       "      <td>0</td>\n",
       "      <td>0</td>\n",
       "      <td>0</td>\n",
       "      <td>0</td>\n",
       "      <td>0</td>\n",
       "      <td>0</td>\n",
       "      <td>0</td>\n",
       "      <td>0</td>\n",
       "      <td>False</td>\n",
       "    </tr>\n",
       "    <tr>\n",
       "      <th>2</th>\n",
       "      <td>889568115848198</td>\n",
       "      <td>https://facebook.com/889568115848198</td>\n",
       "      <td>100008777650405</td>\n",
       "      <td>https://facebook.com/khuongkts?eav=AfYOQ02kFte...</td>\n",
       "      <td>Hôm nghe bảo về fam lại mà mấy bố kêu về fam n...</td>\n",
       "      <td>2023-11-15 00:00:00</td>\n",
       "      <td>0</td>\n",
       "      <td>0</td>\n",
       "      <td>0</td>\n",
       "      <td>0</td>\n",
       "      <td>0</td>\n",
       "      <td>0</td>\n",
       "      <td>0</td>\n",
       "      <td>0</td>\n",
       "      <td>False</td>\n",
       "    </tr>\n",
       "    <tr>\n",
       "      <th>3</th>\n",
       "      <td>874599703945064</td>\n",
       "      <td>https://facebook.com/874599703945064</td>\n",
       "      <td>61552993208509</td>\n",
       "      <td>https://facebook.com/profile.php?id=6155299320...</td>\n",
       "      <td>Anh Khánh đi bộ nai xừ chưa về live nữa 😂</td>\n",
       "      <td>2023-11-13 00:00:00</td>\n",
       "      <td>0</td>\n",
       "      <td>0</td>\n",
       "      <td>0</td>\n",
       "      <td>0</td>\n",
       "      <td>0</td>\n",
       "      <td>0</td>\n",
       "      <td>0</td>\n",
       "      <td>0</td>\n",
       "      <td>False</td>\n",
       "    </tr>\n",
       "    <tr>\n",
       "      <th>4</th>\n",
       "      <td>853331139670600</td>\n",
       "      <td>https://facebook.com/853331139670600</td>\n",
       "      <td>100069500763685</td>\n",
       "      <td>https://facebook.com/profile.php?id=1000695007...</td>\n",
       "      <td>Dương Phong</td>\n",
       "      <td>2023-11-15 00:00:00</td>\n",
       "      <td>0</td>\n",
       "      <td>0</td>\n",
       "      <td>0</td>\n",
       "      <td>0</td>\n",
       "      <td>0</td>\n",
       "      <td>0</td>\n",
       "      <td>0</td>\n",
       "      <td>0</td>\n",
       "      <td>False</td>\n",
       "    </tr>\n",
       "    <tr>\n",
       "      <th>...</th>\n",
       "      <td>...</td>\n",
       "      <td>...</td>\n",
       "      <td>...</td>\n",
       "      <td>...</td>\n",
       "      <td>...</td>\n",
       "      <td>...</td>\n",
       "      <td>...</td>\n",
       "      <td>...</td>\n",
       "      <td>...</td>\n",
       "      <td>...</td>\n",
       "      <td>...</td>\n",
       "      <td>...</td>\n",
       "      <td>...</td>\n",
       "      <td>...</td>\n",
       "      <td>...</td>\n",
       "    </tr>\n",
       "    <tr>\n",
       "      <th>6880</th>\n",
       "      <td>282538447954985</td>\n",
       "      <td>https://facebook.com/282538447954985</td>\n",
       "      <td>100004381742027</td>\n",
       "      <td>https://facebook.com/tai.truong.3538039?eav=Af...</td>\n",
       "      <td>Khi nào đámh ad oi</td>\n",
       "      <td>2023-10-08</td>\n",
       "      <td>0</td>\n",
       "      <td>0</td>\n",
       "      <td>0</td>\n",
       "      <td>0</td>\n",
       "      <td>0</td>\n",
       "      <td>0</td>\n",
       "      <td>0</td>\n",
       "      <td>0</td>\n",
       "      <td>False</td>\n",
       "    </tr>\n",
       "    <tr>\n",
       "      <th>6881</th>\n",
       "      <td>1070332167460223</td>\n",
       "      <td>https://facebook.com/1070332167460223</td>\n",
       "      <td>100088597435713</td>\n",
       "      <td>https://facebook.com/profile.php?id=1000885974...</td>\n",
       "      <td>nghe hừng hực khí thế luôn. cố lên nào mn. VCS...</td>\n",
       "      <td>2023-10-08</td>\n",
       "      <td>0</td>\n",
       "      <td>0</td>\n",
       "      <td>0</td>\n",
       "      <td>0</td>\n",
       "      <td>0</td>\n",
       "      <td>0</td>\n",
       "      <td>0</td>\n",
       "      <td>0</td>\n",
       "      <td>False</td>\n",
       "    </tr>\n",
       "    <tr>\n",
       "      <th>6882</th>\n",
       "      <td>857493452829263</td>\n",
       "      <td>https://facebook.com/857493452829263</td>\n",
       "      <td>100047301279362</td>\n",
       "      <td>https://facebook.com/profile.php?id=1000473012...</td>\n",
       "      <td>Mai mấyh đánh thế mn</td>\n",
       "      <td>2023-10-08</td>\n",
       "      <td>0</td>\n",
       "      <td>0</td>\n",
       "      <td>0</td>\n",
       "      <td>0</td>\n",
       "      <td>0</td>\n",
       "      <td>0</td>\n",
       "      <td>0</td>\n",
       "      <td>0</td>\n",
       "      <td>False</td>\n",
       "    </tr>\n",
       "    <tr>\n",
       "      <th>6883</th>\n",
       "      <td>690150839830092</td>\n",
       "      <td>https://facebook.com/690150839830092</td>\n",
       "      <td>100037243068003</td>\n",
       "      <td>https://facebook.com/profile.php?id=1000372430...</td>\n",
       "      <td>Các thành viên đừng để bất kỳ vấn đề nào ảnh h...</td>\n",
       "      <td>2023-10-08</td>\n",
       "      <td>0</td>\n",
       "      <td>0</td>\n",
       "      <td>0</td>\n",
       "      <td>0</td>\n",
       "      <td>0</td>\n",
       "      <td>0</td>\n",
       "      <td>0</td>\n",
       "      <td>0</td>\n",
       "      <td>False</td>\n",
       "    </tr>\n",
       "    <tr>\n",
       "      <th>6884</th>\n",
       "      <td>286105444310858</td>\n",
       "      <td>https://facebook.com/286105444310858</td>\n",
       "      <td>100024843101092</td>\n",
       "      <td>https://facebook.com/phihong.hoang.77128261?ea...</td>\n",
       "      <td>Điện Lạnh An Phát-tài mai ông oi</td>\n",
       "      <td>2023-10-08</td>\n",
       "      <td>0</td>\n",
       "      <td>0</td>\n",
       "      <td>0</td>\n",
       "      <td>0</td>\n",
       "      <td>0</td>\n",
       "      <td>0</td>\n",
       "      <td>0</td>\n",
       "      <td>0</td>\n",
       "      <td>True</td>\n",
       "    </tr>\n",
       "  </tbody>\n",
       "</table>\n",
       "<p>6885 rows × 15 columns</p>\n",
       "</div>"
      ],
      "text/plain": [
       "            comment_id                            comment_url  \\\n",
       "0      687445613484826   https://facebook.com/687445613484826   \n",
       "1     6766375476749289  https://facebook.com/6766375476749289   \n",
       "2      889568115848198   https://facebook.com/889568115848198   \n",
       "3      874599703945064   https://facebook.com/874599703945064   \n",
       "4      853331139670600   https://facebook.com/853331139670600   \n",
       "...                ...                                    ...   \n",
       "6880   282538447954985   https://facebook.com/282538447954985   \n",
       "6881  1070332167460223  https://facebook.com/1070332167460223   \n",
       "6882   857493452829263   https://facebook.com/857493452829263   \n",
       "6883   690150839830092   https://facebook.com/690150839830092   \n",
       "6884   286105444310858   https://facebook.com/286105444310858   \n",
       "\n",
       "         commenter_id                                      commenter_url  \\\n",
       "0     100032860689002  https://facebook.com/profile.php?id=1000328606...   \n",
       "1     100043315503165  https://facebook.com/profile.php?id=1000433155...   \n",
       "2     100008777650405  https://facebook.com/khuongkts?eav=AfYOQ02kFte...   \n",
       "3      61552993208509  https://facebook.com/profile.php?id=6155299320...   \n",
       "4     100069500763685  https://facebook.com/profile.php?id=1000695007...   \n",
       "...               ...                                                ...   \n",
       "6880  100004381742027  https://facebook.com/tai.truong.3538039?eav=Af...   \n",
       "6881  100088597435713  https://facebook.com/profile.php?id=1000885974...   \n",
       "6882  100047301279362  https://facebook.com/profile.php?id=1000473012...   \n",
       "6883  100037243068003  https://facebook.com/profile.php?id=1000372430...   \n",
       "6884  100024843101092  https://facebook.com/phihong.hoang.77128261?ea...   \n",
       "\n",
       "                                           comment_text         comment_time  \\\n",
       "0     Đăng mic check vs TL đi chứ đánh với anh em mộ...  2023-11-14 00:00:00   \n",
       "1                          Nghe nói fiddlesticks cút hả  2023-11-09 00:00:00   \n",
       "2     Hôm nghe bảo về fam lại mà mấy bố kêu về fam n...  2023-11-15 00:00:00   \n",
       "3             Anh Khánh đi bộ nai xừ chưa về live nữa 😂  2023-11-13 00:00:00   \n",
       "4                                           Dương Phong  2023-11-15 00:00:00   \n",
       "...                                                 ...                  ...   \n",
       "6880                                 Khi nào đámh ad oi           2023-10-08   \n",
       "6881  nghe hừng hực khí thế luôn. cố lên nào mn. VCS...           2023-10-08   \n",
       "6882                               Mai mấyh đánh thế mn           2023-10-08   \n",
       "6883  Các thành viên đừng để bất kỳ vấn đề nào ảnh h...           2023-10-08   \n",
       "6884                   Điện Lạnh An Phát-tài mai ông oi           2023-10-08   \n",
       "\n",
       "      like  haha  sad  love  care  wow  angry  comment_reaction_count  \\\n",
       "0        6     0    0     0     0    0      0                       6   \n",
       "1        0     0    0     0     0    0      0                       0   \n",
       "2        0     0    0     0     0    0      0                       0   \n",
       "3        0     0    0     0     0    0      0                       0   \n",
       "4        0     0    0     0     0    0      0                       0   \n",
       "...    ...   ...  ...   ...   ...  ...    ...                     ...   \n",
       "6880     0     0    0     0     0    0      0                       0   \n",
       "6881     0     0    0     0     0    0      0                       0   \n",
       "6882     0     0    0     0     0    0      0                       0   \n",
       "6883     0     0    0     0     0    0      0                       0   \n",
       "6884     0     0    0     0     0    0      0                       0   \n",
       "\n",
       "      is_reply  \n",
       "0        False  \n",
       "1        False  \n",
       "2        False  \n",
       "3        False  \n",
       "4        False  \n",
       "...        ...  \n",
       "6880     False  \n",
       "6881     False  \n",
       "6882     False  \n",
       "6883     False  \n",
       "6884      True  \n",
       "\n",
       "[6885 rows x 15 columns]"
      ]
     },
     "execution_count": 37,
     "metadata": {},
     "output_type": "execute_result"
    }
   ],
   "source": [
    "comment_df['comment_text'] = pd.concat([tmp_1, tmp_2[1:]])\n",
    "comment_df"
   ]
  },
  {
   "cell_type": "code",
   "execution_count": null,
   "metadata": {},
   "outputs": [
    {
     "data": {
      "text/plain": [
       "Series([], Name: comment_text, dtype: object)"
      ]
     },
     "execution_count": 34,
     "metadata": {},
     "output_type": "execute_result"
    }
   ],
   "source": [
    "comment_df[comment_df['comment_text'].str.len() > 256]['comment_text']"
   ]
  },
  {
   "cell_type": "code",
   "execution_count": null,
   "metadata": {},
   "outputs": [],
   "source": [
    "comment_df['sentiment'] = comment_df['comment_text'].apply(lambda x : sentiment_analyst(x))"
   ]
  },
  {
   "cell_type": "code",
   "execution_count": null,
   "metadata": {},
   "outputs": [
    {
     "data": {
      "text/plain": [
       "0"
      ]
     },
     "execution_count": 41,
     "metadata": {},
     "output_type": "execute_result"
    }
   ],
   "source": [
    "comment_df['sentiment'].isna().sum()"
   ]
  },
  {
   "cell_type": "code",
   "execution_count": null,
   "metadata": {},
   "outputs": [],
   "source": [
    "comment_df.to_csv('Data\\comment_summary_solv.csv', index = False)"
   ]
  }
 ],
 "metadata": {
  "kernelspec": {
   "display_name": "base",
   "language": "python",
   "name": "python3"
  },
  "language_info": {
   "codemirror_mode": {
    "name": "ipython",
    "version": 3
   },
   "file_extension": ".py",
   "mimetype": "text/x-python",
   "name": "python",
   "nbconvert_exporter": "python",
   "pygments_lexer": "ipython3",
   "version": "3.11.4"
  }
 },
 "nbformat": 4,
 "nbformat_minor": 2
}
